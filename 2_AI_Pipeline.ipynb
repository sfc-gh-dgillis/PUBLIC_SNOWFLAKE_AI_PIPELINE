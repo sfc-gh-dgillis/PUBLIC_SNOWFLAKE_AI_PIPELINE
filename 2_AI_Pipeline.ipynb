{
 "metadata": {
  "kernelspec": {
   "display_name": "base",
   "language": "python",
   "name": "python3"
  },
  "language_info": {
   "name": "python",
   "version": "3.12.4"
  },
  "lastEditStatus": {
   "notebookId": "mmvtagvqkmat5smaq2rx",
   "authorId": "3499278949642",
   "authorName": "JHEISLER",
   "authorEmail": "john.heisler@snowflake.com",
   "sessionId": "8fc7e7e7-b349-42cd-a42d-3d1b38ffb140",
   "lastEditTime": 1750253736667
  }
 },
 "nbformat_minor": 5,
 "nbformat": 4,
 "cells": [
  {
   "cell_type": "markdown",
   "id": "18239d9e-e562-47a0-9b99-d83d089db6f2",
   "metadata": {
    "collapsed": false,
    "name": "s0_read_me"
   },
   "source": "# **SNOWFLAKE CORTEX COMPLETE FINANCIAL SERVICES DEMO**\n\n## Authors: John Heisler, Garrett Frere\n\nIn this demo, using Snowflake Cortex (https://www.snowflake.com/en/data-cloud/cortex/), we will build an AI-infused Data Pipeline with Cortex Complete.\n\n### AI Pipeline Overview\n\nWe'll learn how to extract raw text from a PDF, perform prompt engineering, and pass custom prompts and data to a large language model of our choosing all without leaving Snowflake.\n\nSpecifically, we will be taking on the role of an AI Engineer who is working closely with a portfolio team at an asset manager. The portfolio team would like to speed up their ingestion and comprehension of statements by the Federal Open Market Committee (FOMC) who determines the direction of monetary policy by directing open market operations. Ultimately they would like to get a signal as to whether interest rates will increase, remain the same, or increase (hawkish, or, dovish respectively).\n\nI refer to this as an AI pipeline because we can imbue this type of signal generation with AI much further up the data delivery value chain. In this way, we will maximize the value of our work imbuing into a common dataset. End users will not need invoke any additional logic; good design is invisible!\n\n### Next Steps\n\n * To industrialize this demo with continuous ingestion and scoring, please check out the `FSI_Cortex_AI_Pipeline_Industrialization.ipynb` notebook in this repository\n * Check out the companion demo in this repository: `FSI_Cortex_Search.ipynb`\n\n---\n # **BEFORE YOU START**\n\nComplete following step to create dependent database objects **before** running this notebook:\n1. Run the `1_SQL_SETUP_FOMC.sql` script"
  },
  {
   "cell_type": "code",
   "id": "91106167-49bf-4eb3-bc85-9a87467805d2",
   "metadata": {
    "language": "python",
    "name": "s0_session_build"
   },
   "outputs": [],
   "source": "from snowflake.snowpark.context import get_active_session\nfrom snowflake.snowpark.types import *\nfrom snowflake.snowpark.functions import col\nimport streamlit as st\n\nsession = get_active_session() \n\nsession.use_database('GEN_AI_FSI')\nsession.use_schema('ASSET_MANAGEMENT')",
   "execution_count": null
  },
  {
   "cell_type": "markdown",
   "id": "7d5863ec-4a54-42b2-8dea-2c591475f30e",
   "metadata": {
    "collapsed": false,
    "name": "s1_primitives_md"
   },
   "source": "## AI Pipeline: Step 1 - Create Primatives\n\nTo carry out our batch analysis, we create a stored procedure and a function: \n* **`get_fed_pdfs`(stored proc):** Stored procedure to download the PDFs from the federal reserve website to our stage. We'll put that logic in a Python Stored Procedure which we will automate with a task.\n    * Created in the `1_SQL_SETUP_FOMC.sql` script\n    \n* **`generate_prompt`(function):** As we load data into our system, we want to automatically generate a signal. To do so, we need to call an LLM and pass it our prompt. \n    * **Function Registration:** The function is defined with python and then registered the function for later reuse within our pipeline."
  },
  {
   "cell_type": "code",
   "execution_count": null,
   "id": "c32b66ad-ef51-495f-81ed-4de04af18fad",
   "metadata": {
    "codeCollapsed": false,
    "collapsed": false,
    "language": "python",
    "name": "s1_primitives_prompt_py"
   },
   "outputs": [],
   "source": "def generate_sentiment_prompt(document_text):\n    prompt = f\"\"\"# Role\nYou are an experienced Senior Economist deeply knowledgeable on Federal Reserve guidance including FOMC or Federal Open Market Committee meeting minutes and communications.\nYou are an expert in interpreting Hawkish and Dovish signals from the Fed or Federal Reserve. Such signals are derived from guidance conveyed in FOMC meeting notes and communications.\n\nAs an analyst, you excel at discerning macroeconomic trends for each FOMC meeting notes and communications published by the Federal Reserve.\nThe  signal or trends are either Hawkish or Dovish based on the growth outlook and inflation outlook of the Fed. The Federal Reserve has a long \nterm objective of keeping inflation around 2%, and low unemployment. Hawkish sentiment could imply \nthe Federal Reserve intends to raise interest rates to increase the cost of borrowing and slow economic activity. \nThe Fed typically increases interest rates when inflation is high or rising, or when the unemployment \nrate is low or falling. Conversely, dovish sentiment could imply the Federal Reserve intends to lower interest \nrates to allow easier access borrowing and lowering the cost of money to stimulate economic activity.  The Fed \ntypically decreases interest rates when inflation is low or falling, or when the unemployment rate is high or rising.\n\n## Signal categories known as Economic Policy Stances:\n### Hawkish stance or attitude for economic policy\n* characterized by a focus on combating inflation and often involves advocating for higher interest rates and tolerant to higher levels of unemployment.\n* concerned about rising inflation. Hawkish stance believes higher interest rates can help keep inflation in check, even if it slows down economic growth or increases unemployment.\n\n### Dovish stance or attitude for economic policy\n* characterized by a focus on prioritizing stimulating economic growth, reducing unemployment, and tolerant to higher levels of inflation.\n* concerned with boosting economic activity, reducing unemployment and, for this reason, lower interest rates are preferred to create economic growth and employment.\n\n###Neutral stance or attitude for economic policy\n* characterized by a focus on balance between combating inflation and supporting economic growth, with no strong inclination toward either side.\n* concerned with maintaining a steady economic environment without significant deviations. They seek to neither overly stimulate the economy nor excessively tighten it.\n\n# Data\nYou are provided the text of a Federal Reserve Guidance or FOMC meeting notes as context. These generally are released before the Federal Reserve takes action on economic policy. \n\n# Input Context: FOMC_meeting_notes \n{document_text}\n\n# Task\nFollow these instructions:\n1) Review the provided FOMC communication or meeting notes text. Then,\n2) Consider the FOMC members or Committee Members tone and sentiment around economic conditions. Then,\n3) Consider specific guidance and stated conditions that validate the tone and signal FOMC members make concerning current macro economic conditions. Then,\n4) Based on this sentiment classify if the FOMC communication text indicates Hawkish, Dovish, or Neutral outlook for the economy. Be critical and do not categorize sentiment as \"Neutral\" unless necessary. This will be output as [Signal].\n5) Summarize a concise and accurate rationale for classifying the sentiment Hawkish, Neutral, or Dovish sentiment. This will be output as [Signal_Summary].\n\n# Output\nProduce valid JSON. Absolutely do not include any additional text before or following the JSON. Output should use following JSON_format\n\n# JSON output Example\n{{\n    \"Signal\": \"Hawksish\",\n    \"Signal_Summary\": \"The FOMC meeting notes indicate a Hawkish sentiment. The Committee acknowledged elevated inflation, largely driven by transitory factors, but also noted that inflation pressures could last longer than previously expected. They agreed to begin reducing the pace of asset purchases, signaling a move towards tightening monetary policy. The Committee also expressed concerns about supply chain disruptions and labor shortages, which could further exacerbate inflation. The overall tone suggests a focus on combating inflation and a willingness to adjust policy if inflation continues to run high.\"\n}}\"\"\"\n    return prompt\n\nsession.add_packages(\"snowflake-snowpark-python\", \"snowflake-ml-python\", \"snowflake\")\n\nsession.udf.register(\n  func = generate_sentiment_prompt,\n  return_type = StringType(),\n  input_types = [ StringType()],\n  is_permanent = True,\n  name = 'generate_sentiment_prompt',\n  replace = True,\n  stage_location = '@gen_ai_fsi.asset_management.fed_logic')"
  },
  {
   "cell_type": "markdown",
   "id": "ba82eaad-873c-435a-9026-551ec0fc61ac",
   "metadata": {
    "collapsed": false,
    "name": "s2_ingestion"
   },
   "source": "# AI Pipeline: Step 2 - Ingest Text and Determine Signal\n\nLeveraging the function and stored procedure created above, we'll download all the pdfs and score the sentiment in a simple insert statement."
  },
  {
   "cell_type": "code",
   "id": "2168ea69-fdac-4a4f-af77-0353df559037",
   "metadata": {
    "language": "python",
    "name": "s2_ingestion_get_pdfs"
   },
   "outputs": [],
   "source": "query = 'CALL get_fed_pdfs()'\noutput = session.sql(query).collect()\nst.write('# Download Output\\n\\n ', output[0][0])",
   "execution_count": null
  },
  {
   "cell_type": "code",
   "execution_count": null,
   "id": "e0a179c8-5a2b-4377-a179-6dd613ad95f6",
   "metadata": {
    "codeCollapsed": false,
    "collapsed": false,
    "language": "sql",
    "name": "s2_ingestion_insert"
   },
   "outputs": [],
   "source": "ALTER STAGE gen_ai_fsi.asset_management.FED_PDF REFRESH;\n\nINSERT INTO gen_ai_fsi.asset_management.pdf_full_text (id, relative_path, size, last_modified, md5, etag, file_url, file_text, file_date, sentiment)\n\nSELECT\n    gen_ai_fsi.asset_management.fed_pdf_full_text_sequence.nextval AS id,\n    st.relative_path AS relative_path,\n    st.size AS size,\n    st.last_modified AS last_modified,\n    st.md5 AS md5,\n    st.etag AS etag,\n    st.file_url AS file_url,\n    REPLACE(SNOWFLAKE.CORTEX.PARSE_DOCUMENT(@gen_ai_fsi.asset_management.fed_pdf, st.relative_path,{'mode': 'LAYOUT'}):content, '''', '') AS FILE_TEXT,\n    TRY_TO_DATE(REGEXP_SUBSTR(st.relative_path, '\\\\d{8}'), 'YYYYMMDD') AS file_date,\n    NULL as SENTIMENT --we will fill sentiment in the next sql statment\nFROM \n    DIRECTORY(@gen_ai_fsi.asset_management.FED_PDF)st\nLEFT JOIN \n    gen_ai_fsi.asset_management.pdf_full_text ft \n    ON st.relative_path = ft.relative_path\nWHERE -- only insert if the stage file doesnt exist in the pdf_full_text table\n    ft.id IS NULL;\n\nUPDATE gen_ai_fsi.asset_management.pdf_full_text t1\n  --SET SENTIMENT = snowflake.cortex.try_complete('mistral-large2', gen_ai_fsi.asset_management.generate_sentiment_prompt(t2.file_text))\n    SET sentiment =     snowflake.cortex.try_complete('mistral-large2',\n        [\n            {'role': 'user', 'content': gen_ai_fsi.asset_management.generate_sentiment_prompt(t2.file_text)}\n        ],\n            {\n                'temperature': 0.0, -- Adjust for less randomness (more deterministic output)\n                'response_format': {\n                    'type': 'json',\n                    'schema': {\n                        'type': 'object',\n                        'properties': {\n                            'sentiment': {\n                                'type': 'string',\n                                'enum': ['hawkish', 'dovish', 'neutral'],\n                                'description': 'The overall sentiment (hawkish, dovish, or neutral) based on the text.'\n                            },\n                            'signal_reasoning': {\n                                'type': 'string',\n                                'description': 'A concise reason explaining why the sentiment was classified as such.'\n                            }\n                        },\n                        'required': ['sentiment', 'signal_reasoning']\n                    }\n                }\n            }\n        )::VARIANT \n  FROM \n    gen_ai_fsi.asset_management.pdf_full_text t2\n  WHERE \n    t1.id = t2.id and \n    t1.SENTIMENT IS NULL"
  },
  {
   "cell_type": "markdown",
   "id": "d62fc411-3a75-4fc5-8754-e138c8315b2a",
   "metadata": {
    "collapsed": false,
    "name": "s4_completed"
   },
   "source": [
    "### AI Pipeline: Step 3.1 - Check out the result\n",
    "\n",
    "select from our PDF table to view our signal and a summary or reasoning."
   ]
  },
  {
   "cell_type": "code",
   "execution_count": null,
   "id": "6adcbc96-fdce-48d8-ada8-ab8c8ec1d9d2",
   "metadata": {
    "collapsed": false,
    "language": "sql",
    "name": "s4_completed_sql"
   },
   "outputs": [],
   "source": "select * from gen_ai_fsi.asset_management.PDF_FULL_TEXT order by file_date desc;\n\n-- select \n--     relative_path as file, \n--     file_date,\n--     file_text,\n--     --sentiment sentiment_object, \n--     sentiment:structured_output[0].raw_message.sentiment::STRING as sentiment,\n--     sentiment:structured_output[0].raw_message.signal_reasoning::STRING as reasoning\n-- from \n--     GEN_AI_FSI.asset_management.PDF_FULL_TEXT order by file_date desc;"
  },
  {
   "cell_type": "code",
   "id": "87cff720-0dcf-4028-aa85-a591d8a1a8d1",
   "metadata": {
    "language": "python",
    "name": "s4_completed_ui",
    "collapsed": false,
    "codeCollapsed": true
   },
   "outputs": [],
   "source": "page_title=\"FRB Minutes Sentiment Analysis\",\ninitial_sidebar_state=\"auto\"\n\n\n# --- Application Title and Introduction ---\nst.title(\"Federal Reserve Meeting Minutes Sentiment Analysis\")\nst.markdown(\"\"\"\nWelcome to the Federal Reserve Meeting Minutes Sentiment Analyzer. \nThis tool provides a quick overview of the sentiment expressed in past FOMC meeting minutes, \nalong with the detailed reasoning and the full text of the document.\n\"\"\")\nst.markdown(\"---\")\n\n# Define the SQL query to fetch sentiment data\nquery = \"\"\"\nselect\n    relative_path as file,\n    file_date,\n    file_text,\n    sentiment sentiment_object,\n    sentiment:structured_output[0].raw_message.sentiment::STRING as sentiment,\n    sentiment:structured_output[0].raw_message.signal_reasoning::STRING as reasoning\nfrom\n    GEN_AI_FSI.asset_management.PDF_FULL_TEXT\norder by file_date desc\n\"\"\"\n\n# Execute the query \nsentiment_data = session.sql(query).order_by(\"FILE_DATE\", ascending=False)\n\n# get available file dates for the dropdown\nfile_column = sentiment_data.select(col(\"FILE_DATE\")).collect()\navailable_files = [row.FILE_DATE for row in file_column]\n\n# select file\nst.subheader(\"Select Meeting Minutes Date\")\nselected_file = st.selectbox(\n    \"Choose a file date to view its sentiment analysis:\",\n    available_files,\n    index=0, # Default to the most recent file\n    help=\"Use this dropdown to select a specific Federal Reserve meeting minutes file by its date.\"\n)\n\nif st.button(\"Get Analysis\", help=\"Click to view the sentiment analysis for the selected meeting minutes.\"):\n    # filter based on selection\n    sentiment_data_filtered = sentiment_data.filter(col(\"FILE_DATE\") == selected_file)\n    \n    # Extract the relevant data points for the selected file\n    file_text = sentiment_data_filtered.select(col(\"FILE_TEXT\")).collect()[0][0]\n    sentiment = sentiment_data_filtered.select(col(\"SENTIMENT\")).collect()[0][0]\n    reasoning = sentiment_data_filtered.select(col(\"REASONING\")).collect()[0][0]\n    sentiment_object = sentiment_data_filtered.select(col(\"sentiment_object\")).collect()[0][0]\n    \n    st.markdown(\"---\")\n    \n    # --- Display Selected File Information ---\n    # Use a prominent header for the selected file\n    st.header(f\"Analysis for: **{selected_file}**\")\n    \n    # --- Sentiment and Reasoning Display in Columns ---\n    # Use columns to align sentiment and reasoning side-by-side for better readability.\n    # Adjust column ratios to give more space to reasoning.\n    col1, col2 = st.columns([1, 3]) # Column 1 for Sentiment (1 unit), Column 2 for Reasoning (3 units)\n    \n    with col1:\n        st.markdown(\"### Overall Sentiment\")\n        # Determine the color and emoji based on the sentiment value\n        sentiment_lower = sentiment.lower()\n        if sentiment_lower == \"dovish\":\n            st.markdown(f\"## :green[{sentiment.title()}]\")\n        elif sentiment_lower == \"hawkish\":\n            st.markdown(f\"## :red[{sentiment.title()}]\")\n        else: # Neutral or any other unexpected value\n            st.markdown(f\"## :black[{sentiment.title()}]\")\n    \n    with col2:\n        st.markdown(\"### Reasoning Behind Sentiment\")\n        # Use st.info to make the reasoning stand out visually\n        st.write(reasoning)\n    \n    st.markdown(\"---\")\n    \n    # --- Detailed Information and Full File Text in Expander ---\n    # Use an expander to keep the interface clean, allowing users to delve into details when needed.\n    with st.expander(\"See Detailed JSON Response and Full File Text\"):\n        st.title(\"Detailed Snowflake Sentiment Response (JSON)\")\n        # Display the raw JSON response object\n        st.json(sentiment_object)\n    \n        st.markdown(\"---\") # Visual separator\n    \n        st.title(\"Full Meeting Minutes Text\")\n        # Display the complete text of the selected meeting minutes\n        st.markdown(file_text)",
   "execution_count": null
  },
  {
   "cell_type": "code",
   "id": "5bb9f64a-0543-4e56-9652-cdac5c7304de",
   "metadata": {
    "language": "sql",
    "name": "s5_cleanup",
    "collapsed": true,
    "codeCollapsed": true
   },
   "outputs": [],
   "source": "--REMOVE @gen_ai_fsi.asset_management.FED_PDF pattern='.*';\nREMOVE @gen_ai_fsi.asset_management.FED_PDF/fomcminutes20250319.pdf;\nREMOVE @gen_ai_fsi.asset_management.FED_PDF/fomcminutes20250507.pdf;\n\n--TRUNCATE TABLE GEN_AI_FSI.asset_management.PDF_FULL_TEXT;\nDELETE FROM GEN_AI_FSI.asset_management.PDF_FULL_TEXT WHERE RELATIVE_PATH IN('fomcminutes20250507.pdf', 'fomcminutes20250319.pdf');\n\nALTER STAGE gen_ai_fsi.asset_management.FED_PDF REFRESH;",
   "execution_count": null
  },
  {
   "cell_type": "code",
   "id": "461d0fe4-3110-4eb3-8ebd-ddffe82c2ce0",
   "metadata": {
    "language": "sql",
    "name": "depr_insert",
    "collapsed": true,
    "codeCollapsed": true
   },
   "outputs": [],
   "source": "-- INSERT INTO gen_ai_fsi.asset_management.pdf_full_text (id, relative_path, size, last_modified, md5, etag, file_url, file_text, file_date, sentiment)\n\n-- WITH cte AS (\n--     SELECT TOP 1\n--         gen_ai_fsi.asset_management.fed_pdf_full_text_sequence.nextval AS id,\n--         st.relative_path AS relative_path,\n--         st.size AS size,\n--         st.last_modified AS last_modified,\n--         st.md5 AS md5,\n--         st.etag AS etag,\n--         st.file_url AS file_url,\n--         REPLACE(REPLACE(SNOWFLAKE.CORTEX.PARSE_DOCUMENT(@GEN_AI_FSI.asset_management.fed_pdf, st.relative_path,{'mode': 'LAYOUT'}):content, '''', ''),'\"','') AS FILE_TEXT,\n--         TRY_TO_DATE(REGEXP_SUBSTR(st.relative_path, '\\\\d{8}'), 'YYYYMMDD') AS file_date\n--     FROM DIRECTORY(@gen_ai_fsi.asset_management.FED_PDF)st\n--     LEFT JOIN gen_ai_fsi.asset_management.pdf_full_text ft \n--     ON st.relative_path = ft.relative_path\n--     WHERE ft.id IS NULL -- only if the stage file doesnt exist\n--  )\n\n-- SELECT TOP 1 id,\n--        relative_path,\n--        size,\n--        last_modified,\n--        md5,\n--        etag,\n--        file_url,\n--        file_text,\n--        file_date,\n--        gen_ai_fsi.asset_management.generate_sentiment_prompt(file_text), --FOR TESTING\n--        --snowflake.cortex.try_complete('mistral-large2', gen_ai_fsi.asset_management.generate_sentiment_prompt(file_text)) AS signal_mis\n-- FROM cte;\n\n-----------------------------------------------------------",
   "execution_count": null
  }
 ]
}